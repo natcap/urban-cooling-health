{
 "cells": [
  {
   "cell_type": "markdown",
   "metadata": {},
   "source": [
    "# Packages"
   ]
  },
  {
   "cell_type": "code",
   "execution_count": 20,
   "metadata": {},
   "outputs": [],
   "source": [
    "import geopandas as gpd\n",
    "import os\n",
    "import rasterio\n",
    "import geopandas as gpd\n",
    "import numpy as np\n",
    "from rasterio.mask import mask\n",
    "from rasterio.features import rasterize\n",
    "\n",
    "\n",
    "## AOI\n",
    "wd_shp = r'G:\\Shared drives\\Wellcome Trust Project Data\\1_preprocess\\UrbanCoolingModel'\n",
    "aoi_shapefile = os.path.join(wd_shp, \"London_Ward_aoi_prj.shp\") \n",
    "# Load administrative boundaries\n",
    "aoi = gpd.read_file(aoi_shapefile)\n"
   ]
  },
  {
   "cell_type": "markdown",
   "metadata": {},
   "source": [
    "# LC input \n"
   ]
  },
  {
   "cell_type": "code",
   "execution_count": 22,
   "metadata": {},
   "outputs": [],
   "source": [
    "# --- File Paths ---\n",
    "lc_path = r\"G:\\Shared drives\\Wellcome Trust Project Data\\1_preprocess\\UrbanCoolingModel\\EP_preliminary_tests\\clipped_lulc\\UKECH\\LCM2023_London_10m.tif\"\n",
    "\n",
    "lc_code_new_tcc = 100  # Code for the new LC that overlaps with Tree Canopy Cover data\n",
    "\n",
    "\n",
    "# Define labels\n",
    "land_cover_labels = {\n",
    "    1: 'Deciduous woodland',\n",
    "    2: 'Coniferous woodland',\n",
    "    3: 'Arable',\n",
    "    4: 'Improved Grassland',\n",
    "    5: 'Neutral Grassland',\n",
    "    6: 'Calcareous Grassland',\n",
    "    7: 'Acid grassland',\n",
    "    8: 'Fen, Marsh, and Swamp',\n",
    "    9: 'Heather',\n",
    "    10: 'Heather grassland',\n",
    "    11: 'Bog',\n",
    "    12: 'Inland Rock',\n",
    "    13: 'Saltwater',\n",
    "    14: 'Freshwater',\n",
    "    15: 'Supralittoral Rock',\n",
    "    16: 'Supralittoral Sediment',\n",
    "    17: 'Littoral Rock',\n",
    "    18: 'Littoral Sediment',\n",
    "    19: 'Saltmarsh',\n",
    "    20: 'Urban',\n",
    "    21: 'Suburban',\n",
    "}\n"
   ]
  },
  {
   "cell_type": "markdown",
   "metadata": {},
   "source": [
    "## clip to aoi"
   ]
  },
  {
   "cell_type": "code",
   "execution_count": 23,
   "metadata": {},
   "outputs": [
    {
     "name": "stdout",
     "output_type": "stream",
     "text": [
      "Done. Saved to:\n",
      "\t G:\\Shared drives\\Wellcome Trust Project Data\\1_preprocess\\UrbanCoolingModel\\EP_preliminary_tests\\clipped_lulc\\UKECH\\LCM2023_London_10m_clip2aoi.tif\n",
      "[ 0  1  2  3  4  5  6  8  9 10 12 13 14 16 18 19 20 21]\n"
     ]
    }
   ],
   "source": [
    "\n",
    "## clip raster to AOI -------------------------------------------------------------------\n",
    "\n",
    "# load function to use in notebook\n",
    "from function_clip_raster_to_aoi import clip_raster_to_aoi\n",
    "\n",
    "\n",
    "## clip \n",
    "# Output path (optional)\n",
    "lc_clipped_tif = lc_path.replace(\".tif\", \"_clip2aoi.tif\")\n",
    "\n",
    "filled_arr, filled_transform, filled_profile = clip_raster_to_aoi(\n",
    "    raster_path=lc_path,\n",
    "    aoi=aoi_shapefile,  # or pass your GeoDataFrame\n",
    "    out_path=lc_clipped_tif,\n",
    "    replace_nodata_with=0,     # convert 255/nodata -> 0\n",
    "    keep_nodata_tag=False      # keep False so 0 is treated as a real class\n",
    ")\n",
    "\n",
    "\n",
    "## Keep only the first band, as the UKECH land cover raster has two bands, but we only need the first one for land cover classification.\n",
    "if filled_arr.ndim == 3:  # (bands, rows, cols)\n",
    "    filled_arr = filled_arr[0, :, :]  # slice first band\n",
    "    filled_profile.update(count=1)    # tell rasterio it's single-band now\n",
    "\n",
    "# Save manually\n",
    "with rasterio.open(lc_clipped_tif, \"w\", **filled_profile) as dst:\n",
    "    dst.write(filled_arr, 1)\n",
    "\n",
    "\n",
    "print(\"Done. Saved to:\\n\\t\", lc_clipped_tif)\n",
    "print(np.unique(filled_arr[~np.isnan(filled_arr)]))  # check valid classes\n",
    "\n",
    "\n",
    "\n",
    "\n",
    "\n",
    "# --- Step 1: Load the Raster & apply mask ----------------------------------------------\n",
    "with rasterio.open(lc_clipped_tif) as src:\n",
    "    landcover_meta = src.meta.copy()\n",
    "    landcover_crs  = src.crs\n",
    "    transform      = src.transform\n",
    "    arr            = src.read(1)\n",
    "    src_nodata     = src.nodata\n",
    "\n",
    "# build a combined mask: zeros and any existing src NoData\n",
    "mask = (arr == 0)\n",
    "if src_nodata is not None:\n",
    "    mask |= (arr == src_nodata)\n",
    "\n",
    "\n",
    "\n",
    "# coerce to plain ndarray using nodata=0\n",
    "nodata = 0\n",
    "landcover_meta.update(nodata=0)\n",
    "landcover_data = np.where(mask, nodata, arr).astype(np.int32)\n"
   ]
  },
  {
   "cell_type": "markdown",
   "metadata": {},
   "source": [
    "# TCC polygon"
   ]
  },
  {
   "cell_type": "code",
   "execution_count": 15,
   "metadata": {},
   "outputs": [
    {
     "name": "stdout",
     "output_type": "stream",
     "text": [
      "Total area of opportunity land cover: 311.94 km²\n"
     ]
    }
   ],
   "source": [
    "\n",
    "### Load opportunity land shapefile\n",
    "shp_path = r\"G:\\Shared drives\\Wellcome Trust Project Data\\0_source_data\\uk_shapefile_TCC24\\TreeCanopyCover24_stitched.shp\"\n",
    "\n",
    "# --- Step 2: Load the Shapefile ---\n",
    "polygon = gpd.read_file(shp_path)\n",
    "\n",
    "## total area calculation\n",
    "# Ensure CRS is projected (replace EPSG:XXXX with a suitable projection for your area, e.g., EPSG:5070 for US)\n",
    "if polygon.crs.is_geographic:\n",
    "    polygon = polygon.to_crs(epsg=5070)  # Albers Equal Area for US\n",
    "\n",
    "# Calculate total area in square meters\n",
    "total_area_m2 = polygon.geometry.area.sum()\n",
    "\n",
    "# Optionally convert to square kilometers or hectares\n",
    "total_area_km2 = total_area_m2 / 1e6\n",
    "\n",
    "print(f\"Total area of opportunity land cover: {total_area_km2:,.2f} km²\")\n"
   ]
  },
  {
   "cell_type": "markdown",
   "metadata": {},
   "source": [
    "# Reclassify LULC using TCC"
   ]
  },
  {
   "cell_type": "code",
   "execution_count": 24,
   "metadata": {},
   "outputs": [
    {
     "name": "stdout",
     "output_type": "stream",
     "text": [
      "Updated land cover raster saved at: G:\\Shared drives\\Wellcome Trust Project Data\\1_preprocess\\UrbanCoolingModel\\EP_preliminary_tests\\clipped_lulc\\UKECH\\LCM2023_London_10m_clip2aoi_tcc24.tif\n"
     ]
    }
   ],
   "source": [
    "lc_reclass = lc_clipped_tif.replace(\".tif\", \"_tcc24.tif\")\n",
    "\n",
    "\n",
    "# --- Step 3: Reproject Shapefile if Needed ---\n",
    "# (Skip if either CRS is None; otherwise align to raster CRS)\n",
    "if polygon.crs and (polygon.crs != landcover_crs):\n",
    "    polygon = polygon.to_crs(landcover_crs)\n",
    "\n",
    "# Drop empty/invalid geometries (common source of rasterize errors)\n",
    "polygon = polygon[polygon.geometry.notna() & ~polygon.geometry.is_empty]\n",
    "\n",
    "# --- Step 4: Rasterize the Shapefile ---\n",
    "shape_mask = rasterize(\n",
    "    [(geom, 1) for geom in polygon.geometry],\n",
    "    out_shape=landcover_data.shape,\n",
    "    transform=landcover_meta[\"transform\"],\n",
    "    fill=0,\n",
    "    dtype=\"uint8\"\n",
    ")\n",
    "\n",
    "\n",
    "# --- Step 5: Apply the Mask to Update Land Cover Values ---\n",
    "\n",
    "remapped2 = landcover_data.copy()\n",
    "\n",
    "# Protect NoData if present\n",
    "if nodata is not None:\n",
    "    valid_mask = (landcover_data != nodata)\n",
    "else:\n",
    "    valid_mask = np.ones_like(landcover_data, dtype=bool)\n",
    "\n",
    "target_mask = (shape_mask == 1) & valid_mask\n",
    "remapped2[target_mask] = lc_code_new_tcc\n",
    "\n",
    "\n",
    "\n",
    "# --- Step 6: Save the Updated Raster ---\n",
    "landcover_meta.update(dtype=rasterio.uint8, compress=\"lzw\")  # Ensure correct datatype\n",
    "\n",
    "meta_out = landcover_meta.copy()\n",
    "meta_out.update(\n",
    "    dtype=rasterio.uint8,\n",
    "    compress=\"lzw\",\n",
    "    nodata=nodata\n",
    ")\n",
    "\n",
    "\n",
    "with rasterio.open(lc_reclass, \"w\", **meta_out) as dst:\n",
    "    dst.write(remapped2.astype(rasterio.uint8), 1)\n",
    "\n",
    "print(f\"Updated land cover raster saved at: {lc_reclass}\")\n",
    "\n",
    "\n",
    "# Scenario labels\n",
    "land_cover_labels_scenario2 = land_cover_labels.copy()\n",
    "# Add new LC label\n",
    "land_cover_labels_scenario2[lc_code_new_tcc] = \"Tree canopy\"\n"
   ]
  },
  {
   "cell_type": "markdown",
   "metadata": {},
   "source": [
    "### % of LC change - run"
   ]
  },
  {
   "cell_type": "code",
   "execution_count": 25,
   "metadata": {},
   "outputs": [
    {
     "name": "stdout",
     "output_type": "stream",
     "text": [
      "\n",
      "=== Class proportions BEFORE scenario ===\n",
      " class_code                  label   count  proportion  percent     area_m2  area_ha  area_km2\n",
      "          1     Deciduous woodland  867944    0.054427    5.443  86794400.0  8679.44     86.79\n",
      "          2    Coniferous woodland   65124    0.004084    0.408   6512400.0   651.24      6.51\n",
      "          3                 Arable  597008    0.037437    3.744  59700800.0  5970.08     59.70\n",
      "          4     Improved Grassland 3559567    0.223214   22.321 355956700.0 35595.67    355.96\n",
      "          5      Neutral Grassland      11    0.000001    0.000      1100.0     0.11      0.00\n",
      "          6   Calcareous Grassland   50726    0.003181    0.318   5072600.0   507.26      5.07\n",
      "          8  Fen, Marsh, and Swamp   49809    0.003123    0.312   4980900.0   498.09      4.98\n",
      "          9                Heather    1220    0.000077    0.008    122000.0    12.20      0.12\n",
      "         10      Heather grassland    8112    0.000509    0.051    811200.0    81.12      0.81\n",
      "         12            Inland Rock   12911    0.000810    0.081   1291100.0   129.11      1.29\n",
      "         13              Saltwater   11000    0.000690    0.069   1100000.0   110.00      1.10\n",
      "         14             Freshwater  335892    0.021063    2.106  33589200.0  3358.92     33.59\n",
      "         16 Supralittoral Sediment     428    0.000027    0.003     42800.0     4.28      0.04\n",
      "         18      Littoral Sediment    2067    0.000130    0.013    206700.0    20.67      0.21\n",
      "         19              Saltmarsh    9173    0.000575    0.058    917300.0    91.73      0.92\n",
      "         20                  Urban 5328123    0.334117   33.412 532812300.0 53281.23    532.81\n",
      "         21               Suburban 5047743    0.316535   31.654 504774300.0 50477.43    504.77\n",
      "\n",
      "=== Class proportions AFTER scenario ===\n",
      " class_code                  label   count  proportion  percent     area_m2  area_ha  area_km2\n",
      "          1     Deciduous woodland   81608    0.005117    0.512   8160800.0   816.08      8.16\n",
      "          2    Coniferous woodland   11848    0.000743    0.074   1184800.0   118.48      1.18\n",
      "          3                 Arable  570469    0.035773    3.577  57046900.0  5704.69     57.05\n",
      "          4     Improved Grassland 2814783    0.176510   17.651 281478300.0 28147.83    281.48\n",
      "          5      Neutral Grassland      10    0.000001    0.000      1000.0     0.10      0.00\n",
      "          6   Calcareous Grassland   41369    0.002594    0.259   4136900.0   413.69      4.14\n",
      "          8  Fen, Marsh, and Swamp   31479    0.001974    0.197   3147900.0   314.79      3.15\n",
      "          9                Heather     906    0.000057    0.006     90600.0     9.06      0.09\n",
      "         10      Heather grassland    4781    0.000300    0.030    478100.0    47.81      0.48\n",
      "         12            Inland Rock   12868    0.000807    0.081   1286800.0   128.68      1.29\n",
      "         13              Saltwater   10999    0.000690    0.069   1099900.0   109.99      1.10\n",
      "         14             Freshwater  326678    0.020485    2.049  32667800.0  3266.78     32.67\n",
      "         16 Supralittoral Sediment     412    0.000026    0.003     41200.0     4.12      0.04\n",
      "         18      Littoral Sediment    2067    0.000130    0.013    206700.0    20.67      0.21\n",
      "         19              Saltmarsh    8708    0.000546    0.055    870800.0    87.08      0.87\n",
      "         20                  Urban 4911131    0.307969   30.797 491113100.0 49111.31    491.11\n",
      "         21               Suburban 4005332    0.251167   25.117 400533200.0 40053.32    400.53\n",
      "        100            Tree canopy 3111410    0.195111   19.511 311141000.0 31114.10    311.14\n",
      "\n",
      "Saved summaries:\n",
      "- G:\\Shared drives\\Wellcome Trust Project Data\\1_preprocess\\UrbanCoolingModel\\EP_preliminary_tests\\clipped_lulc\\UKECH\\LCM2023_London_10m_clip2aoi_tcc24_class_summary_BEFORE.csv\n",
      "- G:\\Shared drives\\Wellcome Trust Project Data\\1_preprocess\\UrbanCoolingModel\\EP_preliminary_tests\\clipped_lulc\\UKECH\\LCM2023_London_10m_clip2aoi_tcc24_class_summary_AFTER.csv\n"
     ]
    }
   ],
   "source": [
    "\n",
    "# load function to use in notebook\n",
    "from function_summarize_lc_classes import summarize_lc_classes\n",
    "\n",
    "\n",
    "# ---- Compute pixel area if projected (optional) ----\n",
    "px_area_m2 = None\n",
    "if landcover_crs and landcover_crs.is_projected:\n",
    "    # rasterio Affine: transform.a = pixel width, transform.e = pixel height (negative)\n",
    "    px_area_m2 = abs(transform.a) * abs(transform.e)\n",
    "\n",
    "# ---- Summaries: BEFORE (original) and AFTER (remapped) ----\n",
    "summary_before = summarize_lc_classes(\n",
    "    landcover_data,\n",
    "    land_cover_labels,\n",
    "    nodata=nodata,\n",
    "    px_area_m2=px_area_m2,\n",
    "    sort_by=\"class\"\n",
    ")\n",
    "\n",
    "# Optional: if you defined land_cover_labels_scenario; otherwise reuse land_cover_labels\n",
    "labels_after = globals().get(\"land_cover_labels_scenario2\", land_cover_labels)\n",
    "\n",
    "summary_after = summarize_lc_classes(\n",
    "    remapped2,\n",
    "    labels_after,\n",
    "    nodata=nodata,\n",
    "    px_area_m2=px_area_m2,\n",
    "    sort_by=\"class\"\n",
    ")\n",
    "\n",
    "print(\"\\n=== Class proportions BEFORE scenario ===\")\n",
    "print(summary_before.to_string(index=False))\n",
    "\n",
    "print(\"\\n=== Class proportions AFTER scenario ===\")\n",
    "print(summary_after.to_string(index=False))\n",
    "\n",
    "# ---- Optional: quick change report for Tree->Built-up and Shrubland->Built-up ----\n",
    "def class_count(df, code):\n",
    "    row = df.loc[df[\"class_code\"] == code, \"count\"]\n",
    "    return int(row.iloc[0]) if len(row) else 0\n",
    "\n",
    "\n",
    "# ---- Optional: save to CSV ----\n",
    "out_csv_before = lc_reclass.replace(\".tif\", \"_class_summary_BEFORE.csv\")\n",
    "out_csv_after  = lc_reclass.replace(\".tif\", \"_class_summary_AFTER.csv\")\n",
    "summary_before.to_csv(out_csv_before, index=False)\n",
    "summary_after.to_csv(out_csv_after, index=False)\n",
    "print(f\"\\nSaved summaries:\\n- {out_csv_before}\\n- {out_csv_after}\")"
   ]
  },
  {
   "cell_type": "markdown",
   "metadata": {},
   "source": [
    "### change summary"
   ]
  },
  {
   "cell_type": "code",
   "execution_count": 26,
   "metadata": {},
   "outputs": [
    {
     "name": "stdout",
     "output_type": "stream",
     "text": [
      "Saved: G:\\Shared drives\\Wellcome Trust Project Data\\1_preprocess\\UrbanCoolingModel\\EP_preliminary_tests\\clipped_lulc\\UKECH\\LCM2023_London_10m_clip2aoi_tcc24_class_summary_CHANGE.csv\n",
      "\n",
      "=== Class proportions changed ===\n",
      " class_code  area_km2_before  area_km2_after  area_km2_change\n",
      "          1            86.79            8.16           -78.63\n",
      "          2             6.51            1.18            -5.33\n",
      "          3            59.70           57.05            -2.65\n",
      "          4           355.96          281.48           -74.48\n",
      "          5             0.00            0.00             0.00\n",
      "          6             5.07            4.14            -0.93\n",
      "          8             4.98            3.15            -1.83\n",
      "          9             0.12            0.09            -0.03\n",
      "         10             0.81            0.48            -0.33\n",
      "         12             1.29            1.29             0.00\n",
      "         13             1.10            1.10             0.00\n",
      "         14            33.59           32.67            -0.92\n",
      "         16             0.04            0.04             0.00\n",
      "         18             0.21            0.21             0.00\n",
      "         19             0.92            0.87            -0.05\n",
      "         20           532.81          491.11           -41.70\n",
      "         21           504.77          400.53          -104.24\n",
      "        100              NaN          311.14           311.14\n"
     ]
    }
   ],
   "source": [
    "## compute the change in area_km2 ------------------------------------------------------------------ \n",
    "import pandas as pd\n",
    "\n",
    "# Read\n",
    "df_before = pd.read_csv(out_csv_before)\n",
    "df_after  = pd.read_csv(out_csv_after)\n",
    "\n",
    "# Keep only what we need and rename\n",
    "b = df_before[['class_code', 'area_km2']].rename(columns={'area_km2': 'area_km2_before'})\n",
    "a = df_after [['class_code', 'area_km2']].rename(columns={'area_km2': 'area_km2_after'})\n",
    "\n",
    "# Outer join on class_code\n",
    "merged = b.merge(a, on='class_code', how='outer')\n",
    "\n",
    "# Ensure numeric, then compute change\n",
    "for c in ['area_km2_before', 'area_km2_after']:\n",
    "    merged[c] = pd.to_numeric(merged[c], errors='coerce')\n",
    "\n",
    "merged['area_km2_change'] = merged['area_km2_after'].fillna(0) - merged['area_km2_before'].fillna(0)\n",
    "\n",
    "# Save\n",
    "out_csv_change = lc_reclass.replace(\".tif\", \"_class_summary_CHANGE.csv\")\n",
    "merged.to_csv(out_csv_change, index=False)\n",
    "print(f\"Saved: {out_csv_change}\")\n",
    "\n",
    "print(\"\\n=== Class proportions changed ===\")\n",
    "print(merged.to_string(index=False))"
   ]
  }
 ],
 "metadata": {
  "kernelspec": {
   "display_name": "Python 3",
   "language": "python",
   "name": "python3"
  },
  "language_info": {
   "codemirror_mode": {
    "name": "ipython",
    "version": 3
   },
   "file_extension": ".py",
   "mimetype": "text/x-python",
   "name": "python",
   "nbconvert_exporter": "python",
   "pygments_lexer": "ipython3",
   "version": "3.12.4"
  }
 },
 "nbformat": 4,
 "nbformat_minor": 2
}
