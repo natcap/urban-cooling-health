{
 "cells": [
  {
   "cell_type": "markdown",
   "metadata": {},
   "source": [
    "# Packages"
   ]
  },
  {
   "cell_type": "code",
   "execution_count": 3,
   "metadata": {},
   "outputs": [],
   "source": [
    "import geopandas as gpd\n",
    "import os\n",
    "import pandas as pd\n",
    "from pathlib import Path\n"
   ]
  },
  {
   "cell_type": "markdown",
   "metadata": {},
   "source": [
    "# Data"
   ]
  },
  {
   "cell_type": "code",
   "execution_count": 20,
   "metadata": {},
   "outputs": [
    {
     "name": "stdout",
     "output_type": "stream",
     "text": [
      "Current working directory:\n",
      " d:\\natcap\\urban-cooling-health\\code\n",
      "Parent folder:\n",
      " d:\\natcap\\urban-cooling-health\n"
     ]
    }
   ],
   "source": [
    "\n",
    "# Define file path\n",
    "file1_path = r\"G:/Shared drives/Wellcome Trust Project Data/0_source_data/GiGL land use data/GiGL_Trees_font_point/GiGL_GLATrees_Pre2023.shp\"\n",
    "file2_path = r\"G:/Shared drives/Wellcome Trust Project Data/0_source_data/GiGL land use data/GiGL_Trees_font_point/GiGL_GLATrees_2023-24.shp\"\n",
    "\n",
    "# Define output path\n",
    "current_path = os.getcwd()\n",
    "print(\"Current working directory:\\n\", current_path)\n",
    "\n",
    "parent_folder = os.path.dirname(current_path)\n",
    "print(\"Parent folder:\\n\", parent_folder)\n",
    "\n",
    "##\n",
    "wd_shp = r'G:\\Shared drives\\Wellcome Trust Project Data\\1_preprocess\\UrbanCoolingModel'\n",
    "\n",
    "\n",
    "from pathlib import Path\n",
    "\n",
    "# Where to save\n",
    "out_dir = Path(parent_folder) / \"data\"\n",
    "out_dir.mkdir(parents=True, exist_ok=True)\n",
    "\n",
    "# # Read the spatial data one by one\n",
    "# d = gpd.read_file(file1_path)\n"
   ]
  },
  {
   "cell_type": "markdown",
   "metadata": {},
   "source": [
    "## Combine tree data "
   ]
  },
  {
   "cell_type": "code",
   "execution_count": null,
   "metadata": {},
   "outputs": [],
   "source": [
    "# import geopandas as gpd\n",
    "# import pandas as pd\n",
    "# from pathlib import Path\n",
    "\n",
    "# # --- inputs ---\n",
    "# paths = [file1_path, file2_path]  # str or Path\n",
    "# out_path = Path(output_path)         # e.g., \"merged.gpkg\"\n",
    "# out_layer = out_path.stem         # gpkg layer name\n",
    "\n",
    "# # ---- read all, tag source ----\n",
    "# gdfs = []\n",
    "# for p in paths:\n",
    "#     p = Path(p)\n",
    "#     gdf = gpd.read_file(p, engine=\"pyogrio\")\n",
    "#     # ensure geometry column exists\n",
    "#     if \"geometry\" not in gdf.columns:\n",
    "#         raise ValueError(f\"{p} has no geometry column.\")\n",
    "#     gdf[\"source_file\"] = p.name\n",
    "#     gdfs.append(gdf)\n",
    "\n",
    "# if not gdfs:\n",
    "#     raise ValueError(\"No input files read.\")\n",
    "\n",
    "# # ---- choose a target CRS ----\n",
    "# # prefer the first non-None CRS; you can also set a known CRS explicitly\n",
    "# target_crs = next((g.crs for g in gdfs if g.crs is not None), None)\n",
    "\n",
    "# # ---- reproject (only when safe) ----\n",
    "# aligned = []\n",
    "# for g in gdfs:\n",
    "#     if target_crs is None:\n",
    "#         # leave CRS as-is; you may want to set one: g.set_crs(\"EPSG:5070\", inplace=True)\n",
    "#         aligned.append(g)\n",
    "#     elif g.crs is None:\n",
    "#         # if one file lacks CRS but you *know* it matches target_crs, set it:\n",
    "#         g = g.set_crs(target_crs, allow_override=False)\n",
    "#         aligned.append(g)\n",
    "#     elif g.crs != target_crs:\n",
    "#         aligned.append(g.to_crs(target_crs))\n",
    "#     else:\n",
    "#         aligned.append(g)\n",
    "\n",
    "# # ---- align schemas (union of columns across all) ----\n",
    "# all_cols = sorted(set().union(*[set(g.columns) for g in aligned]))\n",
    "# # always ensure 'geometry' is present and last for readability\n",
    "# all_cols = [c for c in all_cols if c != \"geometry\"] + [\"geometry\"]\n",
    "\n",
    "# for i, g in enumerate(aligned):\n",
    "#     # reindex may cast geometry -> object; we re-assert below\n",
    "#     aligned[i] = g.reindex(columns=all_cols)\n",
    "#     aligned[i] = gpd.GeoDataFrame(aligned[i], geometry=\"geometry\", crs=target_crs)\n",
    "\n",
    "# # ---- optional: clean geometries ----\n",
    "# try:\n",
    "#     from shapely import make_valid\n",
    "#     for i, g in enumerate(aligned):\n",
    "#         g[\"geometry\"] = make_valid(g[\"geometry\"])\n",
    "# except Exception:\n",
    "#     # fallback: simple fix for some invalids (not all cases)\n",
    "#     for i, g in enumerate(aligned):\n",
    "#         g[\"geometry\"] = g.buffer(0)\n",
    "\n",
    "# # drop empties if needed\n",
    "# for i, g in enumerate(aligned):\n",
    "#     aligned[i] = g[~g.geometry.is_empty & g.geometry.notnull()]\n",
    "\n",
    "# # ---- concatenate ----\n",
    "# combined = pd.concat(aligned, ignore_index=True, sort=False)\n",
    "# combined = gpd.GeoDataFrame(combined, geometry=\"geometry\", crs=target_crs)\n",
    "\n",
    "# # ---- sanity checks (optional) ----\n",
    "# # print(combined.geom_type.value_counts(dropna=False))\n",
    "# # print(combined.crs)\n",
    "\n",
    "# # ---- write (GeoPackage) ----\n",
    "# combined.to_file(out_path, driver=\"GPKG\", layer=out_layer)\n",
    "# print(f\"Wrote {len(combined)} features to {out_path} (layer='{out_layer}')\")\n"
   ]
  },
  {
   "cell_type": "markdown",
   "metadata": {},
   "source": [
    "## tree species at risk"
   ]
  },
  {
   "cell_type": "code",
   "execution_count": null,
   "metadata": {},
   "outputs": [],
   "source": [
    "## Load the tree list that will be at risk \n",
    "f = r\"D:\\natcap\\urban-cooling-health\\data\\tree_list_GiGL_combined_2050.csv\"\n",
    "\n",
    "at_risk = pd.read_csv(f)\n",
    "\n",
    "## left join the full data\n",
    "trees_at_risk = d.merge(at_risk[['TaxonName', 'country', 'city', 'family', 'year']], \n",
    "                        how=\"left\", on=\"TaxonName\")\n",
    "\n",
    "\n",
    "print(at_risk.columns)\n",
    "print(trees_at_risk.columns)\n",
    "\n",
    "# Step 2: Keep only columns from df + geometry\n",
    "cols_to_keep = list(at_risk.columns) + ['geometry']\n",
    "gdf_trimmed = trees_at_risk[cols_to_keep]\n",
    "\n",
    "\n",
    "# Step 3: Save as new shapefile\n",
    "gdf_trimmed.to_file(output_path)\n",
    "\n",
    "print(f\"Saved merged shapefile to: {output_path}\")\n"
   ]
  }
 ],
 "metadata": {
  "kernelspec": {
   "display_name": "Python 3",
   "language": "python",
   "name": "python3"
  },
  "language_info": {
   "codemirror_mode": {
    "name": "ipython",
    "version": 3
   },
   "file_extension": ".py",
   "mimetype": "text/x-python",
   "name": "python",
   "nbconvert_exporter": "python",
   "pygments_lexer": "ipython3",
   "version": "3.12.4"
  }
 },
 "nbformat": 4,
 "nbformat_minor": 2
}
