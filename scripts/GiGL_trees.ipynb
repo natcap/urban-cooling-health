{
 "cells": [
  {
   "cell_type": "markdown",
   "metadata": {},
   "source": [
    "# Packages"
   ]
  },
  {
   "cell_type": "code",
   "execution_count": 3,
   "metadata": {},
   "outputs": [],
   "source": [
    "import geopandas as gpd\n",
    "import os\n",
    "import pandas as pd\n",
    "\n"
   ]
  },
  {
   "cell_type": "markdown",
   "metadata": {},
   "source": [
    "# Data"
   ]
  },
  {
   "cell_type": "markdown",
   "metadata": {},
   "source": []
  },
  {
   "cell_type": "code",
   "execution_count": 2,
   "metadata": {},
   "outputs": [],
   "source": [
    "\n",
    "# Define file path\n",
    "file_path = r\"G:/Shared drives/Wellcome Trust Project Data/0_source_data/GiGL land use data/GiGL_Trees_font_point/GiGL_GLATrees_Pre2023.shp\"\n",
    "\n",
    "# Read the spatial data\n",
    "d = gpd.read_file(file_path)\n"
   ]
  },
  {
   "cell_type": "markdown",
   "metadata": {},
   "source": [
    "## tree species at risk"
   ]
  },
  {
   "cell_type": "code",
   "execution_count": null,
   "metadata": {},
   "outputs": [
    {
     "name": "stdout",
     "output_type": "stream",
     "text": [
      "Index(['TaxonName', 'CommonName', 'TaxonRank', 'TaxonGroup', 'TaxonCat',\n",
      "       'CommonGrp', 'TaxonClass', 'TaxonOrder', 'TaxonFamil', 'GroupOrder',\n",
      "       'country', 'city', 'family', 'year'],\n",
      "      dtype='object')\n",
      "Index(['TaxonName', 'CommonName', 'TaxonRank', 'TaxonGroup', 'TaxonCat',\n",
      "       'CommonGrp', 'TaxonClass', 'TaxonOrder', 'TaxonFamil', 'SortOrder',\n",
      "       'GroupOrder', 'Abundance', 'AbundCount', 'Length', 'Girth', 'RecDate',\n",
      "       'RecYear', 'RecMonSta', 'RecMonEnd', 'DateStart', 'DateEnd', 'DateType',\n",
      "       'Recorder', 'Determiner', 'GridRef', 'RefSystem', 'Grid10k', 'Grid1k',\n",
      "       'GRPrec', 'GRQual', 'Easting', 'Northing', 'Location', 'SampleType',\n",
      "       'RecType', 'Provenance', 'BreedStat', 'StatusLeg', 'StatusEU',\n",
      "       'StatusUK', 'StatusNERC', 'StatusOth', 'StatusLoc', 'StatusLISI',\n",
      "       'StatusNT', 'SurveyName', 'SurveyBy', 'SurveyTags', 'SurveyRef',\n",
      "       'Borough', 'Comment', 'SampCom', 'VerifCom', 'ObsSource', 'SpecNum',\n",
      "       'SpecComm', 'PrivateLoc', 'PrivateCod', 'PrivateRec', 'PrivateDet',\n",
      "       'Confident', 'Sensitive', 'NegativeRe', 'HistoricRe', 'Verified',\n",
      "       'TRPMapCd', 'TRPParkCd', 'TRPRef', 'RecOccKey', 'RecSamKey',\n",
      "       'RecSurKey', 'RecLocKey', 'RecTLIKey', 'RecTVKey', 'EntryDate',\n",
      "       'LastUpdate', 'VersionDt', 'Licence', 'geometry', 'country', 'city',\n",
      "       'family', 'year'],\n",
      "      dtype='object')\n"
     ]
    }
   ],
   "source": [
    "f = r\"D:\\natcap\\urban-cooling-health\\data\\GiGL_GLATrees_Pre2023_at_risk_2050.csv\"\n",
    "\n",
    "at_risk = pd.read_csv(f)\n",
    "\n",
    "## left join the full data\n",
    "trees_at_risk = d.merge(at_risk[['TaxonName', 'country', 'city', 'family', 'year']], \n",
    "                        how=\"left\", on=\"TaxonName\")\n",
    "\n",
    "\n",
    "print(at_risk.columns)\n",
    "print(trees_at_risk.columns)\n",
    "\n",
    "# Step 2: Keep only columns from df + geometry\n",
    "cols_to_keep = list(at_risk.columns) + ['geometry']\n",
    "gdf_trimmed = trees_at_risk[cols_to_keep]\n",
    "\n",
    "\n",
    "# Step 3: Save as new shapefile\n",
    "output_path = \"GiGL_GLATrees_Pre2023_risk_2050.shp\"\n",
    "gdf_trimmed.to_file(output_path)\n",
    "\n",
    "print(f\"Saved merged shapefile to: {output_path}\")\n"
   ]
  }
 ],
 "metadata": {
  "kernelspec": {
   "display_name": "base",
   "language": "python",
   "name": "python3"
  },
  "language_info": {
   "codemirror_mode": {
    "name": "ipython",
    "version": 3
   },
   "file_extension": ".py",
   "mimetype": "text/x-python",
   "name": "python",
   "nbconvert_exporter": "python",
   "pygments_lexer": "ipython3",
   "version": "3.11.5"
  }
 },
 "nbformat": 4,
 "nbformat_minor": 2
}
